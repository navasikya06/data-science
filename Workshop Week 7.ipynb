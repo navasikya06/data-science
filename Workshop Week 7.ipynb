{
 "cells": [
  {
   "cell_type": "code",
   "execution_count": 1,
   "metadata": {},
   "outputs": [],
   "source": [
    "import pandas as pd\n",
    "import numpy as np\n",
    "from sklearn.cluster import KMeans\n",
    "from sklearn.metrics import pairwise_distances\n",
    "from scipy.cluster.hierarchy import linkage, dendrogram, cut_tree\n",
    "from scipy.spatial.distance import pdist \n",
    "from sklearn.feature_extraction.text import TfidfVectorizer\n",
    "import matplotlib.pyplot as plt\n",
    "%matplotlib inline\n"
   ]
  },
  {
   "cell_type": "markdown",
   "metadata": {},
   "source": [
    "# Clustering and Text Analysis\n",
    "\n",
    "The workshop task this week involves unsupervised learning - an exercise in clustering.   We'll use a the Pokemon dataset to walk through the process of kmeans and hierarchical clustering.  We'll then introduce a text dataset for you to experiment with text analysis.\n",
    "\n",
    "## Pokemon Clustering\n",
    "\n",
    "The Pokemon dataset that we used in Week 4 is a good example to use for clustering as it has a number of numerical fields giving the properties of each Pokemon.  We can also imagine that there might be different types of Pokemon within the data, so using clustering methods to find the different types is a reasonable approach.  \n",
    "\n",
    "First we read the data from the CSV file, we'll use the Pokemon name as the data frame index and drop the first column which is a useless index number. "
   ]
  },
  {
   "cell_type": "code",
   "execution_count": 4,
   "metadata": {},
   "outputs": [
    {
     "data": {
      "text/html": [
       "<div>\n",
       "<style scoped>\n",
       "    .dataframe tbody tr th:only-of-type {\n",
       "        vertical-align: middle;\n",
       "    }\n",
       "\n",
       "    .dataframe tbody tr th {\n",
       "        vertical-align: top;\n",
       "    }\n",
       "\n",
       "    .dataframe thead th {\n",
       "        text-align: right;\n",
       "    }\n",
       "</style>\n",
       "<table border=\"1\" class=\"dataframe\">\n",
       "  <thead>\n",
       "    <tr style=\"text-align: right;\">\n",
       "      <th></th>\n",
       "      <th>Type 1</th>\n",
       "      <th>Type 2</th>\n",
       "      <th>Total</th>\n",
       "      <th>HP</th>\n",
       "      <th>Attack</th>\n",
       "      <th>Defense</th>\n",
       "      <th>Sp. Atk</th>\n",
       "      <th>Sp. Def</th>\n",
       "      <th>Speed</th>\n",
       "      <th>Stage</th>\n",
       "      <th>Legendary</th>\n",
       "    </tr>\n",
       "    <tr>\n",
       "      <th>Name</th>\n",
       "      <th></th>\n",
       "      <th></th>\n",
       "      <th></th>\n",
       "      <th></th>\n",
       "      <th></th>\n",
       "      <th></th>\n",
       "      <th></th>\n",
       "      <th></th>\n",
       "      <th></th>\n",
       "      <th></th>\n",
       "      <th></th>\n",
       "    </tr>\n",
       "  </thead>\n",
       "  <tbody>\n",
       "    <tr>\n",
       "      <th>Bulbasaur</th>\n",
       "      <td>Grass</td>\n",
       "      <td>Poison</td>\n",
       "      <td>318</td>\n",
       "      <td>45</td>\n",
       "      <td>49</td>\n",
       "      <td>49</td>\n",
       "      <td>65</td>\n",
       "      <td>65</td>\n",
       "      <td>45</td>\n",
       "      <td>1</td>\n",
       "      <td>False</td>\n",
       "    </tr>\n",
       "    <tr>\n",
       "      <th>Ivysaur</th>\n",
       "      <td>Grass</td>\n",
       "      <td>Poison</td>\n",
       "      <td>405</td>\n",
       "      <td>60</td>\n",
       "      <td>62</td>\n",
       "      <td>63</td>\n",
       "      <td>80</td>\n",
       "      <td>80</td>\n",
       "      <td>60</td>\n",
       "      <td>2</td>\n",
       "      <td>False</td>\n",
       "    </tr>\n",
       "    <tr>\n",
       "      <th>Venusaur</th>\n",
       "      <td>Grass</td>\n",
       "      <td>Poison</td>\n",
       "      <td>525</td>\n",
       "      <td>80</td>\n",
       "      <td>82</td>\n",
       "      <td>83</td>\n",
       "      <td>100</td>\n",
       "      <td>100</td>\n",
       "      <td>80</td>\n",
       "      <td>3</td>\n",
       "      <td>False</td>\n",
       "    </tr>\n",
       "    <tr>\n",
       "      <th>Charmander</th>\n",
       "      <td>Fire</td>\n",
       "      <td>NaN</td>\n",
       "      <td>309</td>\n",
       "      <td>39</td>\n",
       "      <td>52</td>\n",
       "      <td>43</td>\n",
       "      <td>60</td>\n",
       "      <td>50</td>\n",
       "      <td>65</td>\n",
       "      <td>1</td>\n",
       "      <td>False</td>\n",
       "    </tr>\n",
       "    <tr>\n",
       "      <th>Charmeleon</th>\n",
       "      <td>Fire</td>\n",
       "      <td>NaN</td>\n",
       "      <td>405</td>\n",
       "      <td>58</td>\n",
       "      <td>64</td>\n",
       "      <td>58</td>\n",
       "      <td>80</td>\n",
       "      <td>65</td>\n",
       "      <td>80</td>\n",
       "      <td>2</td>\n",
       "      <td>False</td>\n",
       "    </tr>\n",
       "  </tbody>\n",
       "</table>\n",
       "</div>"
      ],
      "text/plain": [
       "           Type 1  Type 2  Total  HP  Attack  Defense  Sp. Atk  Sp. Def  \\\n",
       "Name                                                                      \n",
       "Bulbasaur   Grass  Poison    318  45      49       49       65       65   \n",
       "Ivysaur     Grass  Poison    405  60      62       63       80       80   \n",
       "Venusaur    Grass  Poison    525  80      82       83      100      100   \n",
       "Charmander   Fire     NaN    309  39      52       43       60       50   \n",
       "Charmeleon   Fire     NaN    405  58      64       58       80       65   \n",
       "\n",
       "            Speed  Stage  Legendary  \n",
       "Name                                 \n",
       "Bulbasaur      45      1      False  \n",
       "Ivysaur        60      2      False  \n",
       "Venusaur       80      3      False  \n",
       "Charmander     65      1      False  \n",
       "Charmeleon     80      2      False  "
      ]
     },
     "execution_count": 4,
     "metadata": {},
     "output_type": "execute_result"
    }
   ],
   "source": [
    "df = pd.read_csv('data/Pokemon.csv', index_col=1)\n",
    "df.drop('Unnamed: 0', axis=1, inplace=True)\n",
    "df.head()"
   ]
  },
  {
   "cell_type": "markdown",
   "metadata": {},
   "source": [
    "Now you should apply the kMeans clustering method to this data. The first step is to select just the numerical fields in the data.  You can either drop the non-numerical fields or make a new data frame containing just the numerical ones (I suggest making a new data frame).\n",
    "\n",
    "Then apply the kMeans clustering function to the data, following the steps in the lecture notes and text book.  Since we don't have any real idea how many clusters there could be in the data, start with a small number of clusters (eg. 4) just to make it easier to understand the clusters."
   ]
  },
  {
   "cell_type": "code",
   "execution_count": 25,
   "metadata": {},
   "outputs": [
    {
     "data": {
      "text/html": [
       "<div>\n",
       "<style scoped>\n",
       "    .dataframe tbody tr th:only-of-type {\n",
       "        vertical-align: middle;\n",
       "    }\n",
       "\n",
       "    .dataframe tbody tr th {\n",
       "        vertical-align: top;\n",
       "    }\n",
       "\n",
       "    .dataframe thead th {\n",
       "        text-align: right;\n",
       "    }\n",
       "</style>\n",
       "<table border=\"1\" class=\"dataframe\">\n",
       "  <thead>\n",
       "    <tr style=\"text-align: right;\">\n",
       "      <th></th>\n",
       "      <th>Total</th>\n",
       "      <th>HP</th>\n",
       "      <th>Attack</th>\n",
       "      <th>Defense</th>\n",
       "      <th>Sp. Atk</th>\n",
       "      <th>Sp. Def</th>\n",
       "      <th>Speed</th>\n",
       "      <th>Stage</th>\n",
       "    </tr>\n",
       "    <tr>\n",
       "      <th>Name</th>\n",
       "      <th></th>\n",
       "      <th></th>\n",
       "      <th></th>\n",
       "      <th></th>\n",
       "      <th></th>\n",
       "      <th></th>\n",
       "      <th></th>\n",
       "      <th></th>\n",
       "    </tr>\n",
       "  </thead>\n",
       "  <tbody>\n",
       "    <tr>\n",
       "      <th>Bulbasaur</th>\n",
       "      <td>318</td>\n",
       "      <td>45</td>\n",
       "      <td>49</td>\n",
       "      <td>49</td>\n",
       "      <td>65</td>\n",
       "      <td>65</td>\n",
       "      <td>45</td>\n",
       "      <td>1</td>\n",
       "    </tr>\n",
       "    <tr>\n",
       "      <th>Ivysaur</th>\n",
       "      <td>405</td>\n",
       "      <td>60</td>\n",
       "      <td>62</td>\n",
       "      <td>63</td>\n",
       "      <td>80</td>\n",
       "      <td>80</td>\n",
       "      <td>60</td>\n",
       "      <td>2</td>\n",
       "    </tr>\n",
       "    <tr>\n",
       "      <th>Venusaur</th>\n",
       "      <td>525</td>\n",
       "      <td>80</td>\n",
       "      <td>82</td>\n",
       "      <td>83</td>\n",
       "      <td>100</td>\n",
       "      <td>100</td>\n",
       "      <td>80</td>\n",
       "      <td>3</td>\n",
       "    </tr>\n",
       "    <tr>\n",
       "      <th>Charmander</th>\n",
       "      <td>309</td>\n",
       "      <td>39</td>\n",
       "      <td>52</td>\n",
       "      <td>43</td>\n",
       "      <td>60</td>\n",
       "      <td>50</td>\n",
       "      <td>65</td>\n",
       "      <td>1</td>\n",
       "    </tr>\n",
       "    <tr>\n",
       "      <th>Charmeleon</th>\n",
       "      <td>405</td>\n",
       "      <td>58</td>\n",
       "      <td>64</td>\n",
       "      <td>58</td>\n",
       "      <td>80</td>\n",
       "      <td>65</td>\n",
       "      <td>80</td>\n",
       "      <td>2</td>\n",
       "    </tr>\n",
       "  </tbody>\n",
       "</table>\n",
       "</div>"
      ],
      "text/plain": [
       "            Total  HP  Attack  Defense  Sp. Atk  Sp. Def  Speed  Stage\n",
       "Name                                                                  \n",
       "Bulbasaur     318  45      49       49       65       65     45      1\n",
       "Ivysaur       405  60      62       63       80       80     60      2\n",
       "Venusaur      525  80      82       83      100      100     80      3\n",
       "Charmander    309  39      52       43       60       50     65      1\n",
       "Charmeleon    405  58      64       58       80       65     80      2"
      ]
     },
     "execution_count": 25,
     "metadata": {},
     "output_type": "execute_result"
    }
   ],
   "source": [
    "pokemon = df.drop(columns = ['Type 1', 'Type 2', 'Legendary'])\n",
    "\n",
    "pokemon.head()"
   ]
  },
  {
   "cell_type": "code",
   "execution_count": 26,
   "metadata": {},
   "outputs": [
    {
     "data": {
      "text/html": [
       "<style>#sk-container-id-5 {color: black;background-color: white;}#sk-container-id-5 pre{padding: 0;}#sk-container-id-5 div.sk-toggleable {background-color: white;}#sk-container-id-5 label.sk-toggleable__label {cursor: pointer;display: block;width: 100%;margin-bottom: 0;padding: 0.3em;box-sizing: border-box;text-align: center;}#sk-container-id-5 label.sk-toggleable__label-arrow:before {content: \"▸\";float: left;margin-right: 0.25em;color: #696969;}#sk-container-id-5 label.sk-toggleable__label-arrow:hover:before {color: black;}#sk-container-id-5 div.sk-estimator:hover label.sk-toggleable__label-arrow:before {color: black;}#sk-container-id-5 div.sk-toggleable__content {max-height: 0;max-width: 0;overflow: hidden;text-align: left;background-color: #f0f8ff;}#sk-container-id-5 div.sk-toggleable__content pre {margin: 0.2em;color: black;border-radius: 0.25em;background-color: #f0f8ff;}#sk-container-id-5 input.sk-toggleable__control:checked~div.sk-toggleable__content {max-height: 200px;max-width: 100%;overflow: auto;}#sk-container-id-5 input.sk-toggleable__control:checked~label.sk-toggleable__label-arrow:before {content: \"▾\";}#sk-container-id-5 div.sk-estimator input.sk-toggleable__control:checked~label.sk-toggleable__label {background-color: #d4ebff;}#sk-container-id-5 div.sk-label input.sk-toggleable__control:checked~label.sk-toggleable__label {background-color: #d4ebff;}#sk-container-id-5 input.sk-hidden--visually {border: 0;clip: rect(1px 1px 1px 1px);clip: rect(1px, 1px, 1px, 1px);height: 1px;margin: -1px;overflow: hidden;padding: 0;position: absolute;width: 1px;}#sk-container-id-5 div.sk-estimator {font-family: monospace;background-color: #f0f8ff;border: 1px dotted black;border-radius: 0.25em;box-sizing: border-box;margin-bottom: 0.5em;}#sk-container-id-5 div.sk-estimator:hover {background-color: #d4ebff;}#sk-container-id-5 div.sk-parallel-item::after {content: \"\";width: 100%;border-bottom: 1px solid gray;flex-grow: 1;}#sk-container-id-5 div.sk-label:hover label.sk-toggleable__label {background-color: #d4ebff;}#sk-container-id-5 div.sk-serial::before {content: \"\";position: absolute;border-left: 1px solid gray;box-sizing: border-box;top: 0;bottom: 0;left: 50%;z-index: 0;}#sk-container-id-5 div.sk-serial {display: flex;flex-direction: column;align-items: center;background-color: white;padding-right: 0.2em;padding-left: 0.2em;position: relative;}#sk-container-id-5 div.sk-item {position: relative;z-index: 1;}#sk-container-id-5 div.sk-parallel {display: flex;align-items: stretch;justify-content: center;background-color: white;position: relative;}#sk-container-id-5 div.sk-item::before, #sk-container-id-5 div.sk-parallel-item::before {content: \"\";position: absolute;border-left: 1px solid gray;box-sizing: border-box;top: 0;bottom: 0;left: 50%;z-index: -1;}#sk-container-id-5 div.sk-parallel-item {display: flex;flex-direction: column;z-index: 1;position: relative;background-color: white;}#sk-container-id-5 div.sk-parallel-item:first-child::after {align-self: flex-end;width: 50%;}#sk-container-id-5 div.sk-parallel-item:last-child::after {align-self: flex-start;width: 50%;}#sk-container-id-5 div.sk-parallel-item:only-child::after {width: 0;}#sk-container-id-5 div.sk-dashed-wrapped {border: 1px dashed gray;margin: 0 0.4em 0.5em 0.4em;box-sizing: border-box;padding-bottom: 0.4em;background-color: white;}#sk-container-id-5 div.sk-label label {font-family: monospace;font-weight: bold;display: inline-block;line-height: 1.2em;}#sk-container-id-5 div.sk-label-container {text-align: center;}#sk-container-id-5 div.sk-container {/* jupyter's `normalize.less` sets `[hidden] { display: none; }` but bootstrap.min.css set `[hidden] { display: none !important; }` so we also need the `!important` here to be able to override the default hidden behavior on the sphinx rendered scikit-learn.org. See: https://github.com/scikit-learn/scikit-learn/issues/21755 */display: inline-block !important;position: relative;}#sk-container-id-5 div.sk-text-repr-fallback {display: none;}</style><div id=\"sk-container-id-5\" class=\"sk-top-container\"><div class=\"sk-text-repr-fallback\"><pre>KMeans(n_clusters=2)</pre><b>In a Jupyter environment, please rerun this cell to show the HTML representation or trust the notebook. <br />On GitHub, the HTML representation is unable to render, please try loading this page with nbviewer.org.</b></div><div class=\"sk-container\" hidden><div class=\"sk-item\"><div class=\"sk-estimator sk-toggleable\"><input class=\"sk-toggleable__control sk-hidden--visually\" id=\"sk-estimator-id-5\" type=\"checkbox\" checked><label for=\"sk-estimator-id-5\" class=\"sk-toggleable__label sk-toggleable__label-arrow\">KMeans</label><div class=\"sk-toggleable__content\"><pre>KMeans(n_clusters=2)</pre></div></div></div></div></div>"
      ],
      "text/plain": [
       "KMeans(n_clusters=2)"
      ]
     },
     "execution_count": 26,
     "metadata": {},
     "output_type": "execute_result"
    }
   ],
   "source": [
    "km2 = KMeans(n_clusters = 2)\n",
    "pokemon2 = pokemon\n",
    "\n",
    "km2.fit(pokemon2)"
   ]
  },
  {
   "cell_type": "markdown",
   "metadata": {},
   "source": [
    "Once you have applied kMeans you will have some results to explore.  Your goal is to understand the clusters that have been produced. If you know something about Pokemon you might be able to recognise similarities between members of each cluster, if not (and even if you do) you need to understand what the members of each cluster have in common. \n",
    "\n",
    "The first task is to find out what the members of each cluster are.  To do this, generate a set of cluster labels using `km.predict()` on your original data and add this to the data frame (see the lecture notes).  Now, explore the difference between each cluster:\n",
    " \n",
    " * find the mean value for each column by cluster, you can do this by selecting the rows for each cluster and then taking the mean or by using the `groupby` method\n",
    " * from these means, can you characterise the four clusters that were found, eg. \"Cluster 0 are early stage Pokemon with relatively low HP, Attack and Defence ratings\".  Provide descriptions like this of each cluster.\n",
    " * Identify two columns that seem to be more distinct between clusters, use these to plot the data with different colours for each cluster to visualise the result of clustering.  Comment on the separation of clusters in your plot.\n",
    " * Repeat the experiment with a larger number of clusters. Do more clusters make it easier to distinguish the clusters? "
   ]
  },
  {
   "cell_type": "code",
   "execution_count": 27,
   "metadata": {},
   "outputs": [],
   "source": [
    "pokemon2['label'] = km.predict(pokemon2)"
   ]
  },
  {
   "cell_type": "code",
   "execution_count": 28,
   "metadata": {},
   "outputs": [
    {
     "data": {
      "text/html": [
       "<div>\n",
       "<style scoped>\n",
       "    .dataframe tbody tr th:only-of-type {\n",
       "        vertical-align: middle;\n",
       "    }\n",
       "\n",
       "    .dataframe tbody tr th {\n",
       "        vertical-align: top;\n",
       "    }\n",
       "\n",
       "    .dataframe thead th {\n",
       "        text-align: right;\n",
       "    }\n",
       "</style>\n",
       "<table border=\"1\" class=\"dataframe\">\n",
       "  <thead>\n",
       "    <tr style=\"text-align: right;\">\n",
       "      <th></th>\n",
       "      <th>Total</th>\n",
       "      <th>HP</th>\n",
       "      <th>Attack</th>\n",
       "      <th>Defense</th>\n",
       "      <th>Sp. Atk</th>\n",
       "      <th>Sp. Def</th>\n",
       "      <th>Speed</th>\n",
       "      <th>Stage</th>\n",
       "      <th>label</th>\n",
       "    </tr>\n",
       "    <tr>\n",
       "      <th>Name</th>\n",
       "      <th></th>\n",
       "      <th></th>\n",
       "      <th></th>\n",
       "      <th></th>\n",
       "      <th></th>\n",
       "      <th></th>\n",
       "      <th></th>\n",
       "      <th></th>\n",
       "      <th></th>\n",
       "    </tr>\n",
       "  </thead>\n",
       "  <tbody>\n",
       "    <tr>\n",
       "      <th>Bulbasaur</th>\n",
       "      <td>318</td>\n",
       "      <td>45</td>\n",
       "      <td>49</td>\n",
       "      <td>49</td>\n",
       "      <td>65</td>\n",
       "      <td>65</td>\n",
       "      <td>45</td>\n",
       "      <td>1</td>\n",
       "      <td>0</td>\n",
       "    </tr>\n",
       "    <tr>\n",
       "      <th>Ivysaur</th>\n",
       "      <td>405</td>\n",
       "      <td>60</td>\n",
       "      <td>62</td>\n",
       "      <td>63</td>\n",
       "      <td>80</td>\n",
       "      <td>80</td>\n",
       "      <td>60</td>\n",
       "      <td>2</td>\n",
       "      <td>1</td>\n",
       "    </tr>\n",
       "    <tr>\n",
       "      <th>Venusaur</th>\n",
       "      <td>525</td>\n",
       "      <td>80</td>\n",
       "      <td>82</td>\n",
       "      <td>83</td>\n",
       "      <td>100</td>\n",
       "      <td>100</td>\n",
       "      <td>80</td>\n",
       "      <td>3</td>\n",
       "      <td>1</td>\n",
       "    </tr>\n",
       "    <tr>\n",
       "      <th>Charmander</th>\n",
       "      <td>309</td>\n",
       "      <td>39</td>\n",
       "      <td>52</td>\n",
       "      <td>43</td>\n",
       "      <td>60</td>\n",
       "      <td>50</td>\n",
       "      <td>65</td>\n",
       "      <td>1</td>\n",
       "      <td>0</td>\n",
       "    </tr>\n",
       "    <tr>\n",
       "      <th>Charmeleon</th>\n",
       "      <td>405</td>\n",
       "      <td>58</td>\n",
       "      <td>64</td>\n",
       "      <td>58</td>\n",
       "      <td>80</td>\n",
       "      <td>65</td>\n",
       "      <td>80</td>\n",
       "      <td>2</td>\n",
       "      <td>1</td>\n",
       "    </tr>\n",
       "  </tbody>\n",
       "</table>\n",
       "</div>"
      ],
      "text/plain": [
       "            Total  HP  Attack  Defense  Sp. Atk  Sp. Def  Speed  Stage  label\n",
       "Name                                                                         \n",
       "Bulbasaur     318  45      49       49       65       65     45      1      0\n",
       "Ivysaur       405  60      62       63       80       80     60      2      1\n",
       "Venusaur      525  80      82       83      100      100     80      3      1\n",
       "Charmander    309  39      52       43       60       50     65      1      0\n",
       "Charmeleon    405  58      64       58       80       65     80      2      1"
      ]
     },
     "execution_count": 28,
     "metadata": {},
     "output_type": "execute_result"
    }
   ],
   "source": [
    "pokemon2.head()"
   ]
  },
  {
   "cell_type": "code",
   "execution_count": 29,
   "metadata": {},
   "outputs": [
    {
     "data": {
      "text/html": [
       "<div>\n",
       "<style scoped>\n",
       "    .dataframe tbody tr th:only-of-type {\n",
       "        vertical-align: middle;\n",
       "    }\n",
       "\n",
       "    .dataframe tbody tr th {\n",
       "        vertical-align: top;\n",
       "    }\n",
       "\n",
       "    .dataframe thead th {\n",
       "        text-align: right;\n",
       "    }\n",
       "</style>\n",
       "<table border=\"1\" class=\"dataframe\">\n",
       "  <thead>\n",
       "    <tr style=\"text-align: right;\">\n",
       "      <th></th>\n",
       "      <th>Total</th>\n",
       "      <th>HP</th>\n",
       "      <th>Attack</th>\n",
       "      <th>Defense</th>\n",
       "      <th>Sp. Atk</th>\n",
       "      <th>Sp. Def</th>\n",
       "      <th>Speed</th>\n",
       "      <th>Stage</th>\n",
       "    </tr>\n",
       "    <tr>\n",
       "      <th>label</th>\n",
       "      <th></th>\n",
       "      <th></th>\n",
       "      <th></th>\n",
       "      <th></th>\n",
       "      <th></th>\n",
       "      <th></th>\n",
       "      <th></th>\n",
       "      <th></th>\n",
       "    </tr>\n",
       "  </thead>\n",
       "  <tbody>\n",
       "    <tr>\n",
       "      <th>0</th>\n",
       "      <td>313.652174</td>\n",
       "      <td>48.652174</td>\n",
       "      <td>55.985507</td>\n",
       "      <td>56.898551</td>\n",
       "      <td>50.000000</td>\n",
       "      <td>48.246377</td>\n",
       "      <td>53.869565</td>\n",
       "      <td>1.188406</td>\n",
       "    </tr>\n",
       "    <tr>\n",
       "      <th>1</th>\n",
       "      <td>485.695122</td>\n",
       "      <td>77.304878</td>\n",
       "      <td>86.487805</td>\n",
       "      <td>77.756098</td>\n",
       "      <td>81.560976</td>\n",
       "      <td>80.975610</td>\n",
       "      <td>81.609756</td>\n",
       "      <td>1.914634</td>\n",
       "    </tr>\n",
       "  </tbody>\n",
       "</table>\n",
       "</div>"
      ],
      "text/plain": [
       "            Total         HP     Attack    Defense    Sp. Atk    Sp. Def  \\\n",
       "label                                                                      \n",
       "0      313.652174  48.652174  55.985507  56.898551  50.000000  48.246377   \n",
       "1      485.695122  77.304878  86.487805  77.756098  81.560976  80.975610   \n",
       "\n",
       "           Speed     Stage  \n",
       "label                       \n",
       "0      53.869565  1.188406  \n",
       "1      81.609756  1.914634  "
      ]
     },
     "execution_count": 29,
     "metadata": {},
     "output_type": "execute_result"
    }
   ],
   "source": [
    "c_means = pokemon2.groupby(['label']).agg('mean')\n",
    "c_means"
   ]
  },
  {
   "cell_type": "markdown",
   "metadata": {},
   "source": [
    "- We can see that cluster 1 has higher HP, Attack, Defense, SpAtk, SpDef, Speed and most likely in stage 2.\n",
    "\n",
    "- Cluseter 0 has low HP, Attack, Defense, SpAtk, SpDef, Speed and most likely in stage 1."
   ]
  },
  {
   "cell_type": "code",
   "execution_count": 30,
   "metadata": {},
   "outputs": [
    {
     "data": {
      "text/plain": [
       "<matplotlib.collections.PathCollection at 0x1ce52fd1810>"
      ]
     },
     "execution_count": 30,
     "metadata": {},
     "output_type": "execute_result"
    },
    {
     "data": {
      "image/png": "[encoded data removed]",
      "text/plain": [
       "<Figure size 432x288 with 1 Axes>"
      ]
     },
     "metadata": {
      "needs_background": "light"
     },
     "output_type": "display_data"
    }
   ],
   "source": [
    "plt.scatter(pokemon2['Attack'], pokemon2['Defense'], c = pokemon2['label'])"
   ]
  },
  {
   "cell_type": "code",
   "execution_count": 42,
   "metadata": {},
   "outputs": [
    {
     "data": {
      "text/plain": [
       "<matplotlib.collections.PathCollection at 0x1ce542a5b70>"
      ]
     },
     "execution_count": 42,
     "metadata": {},
     "output_type": "execute_result"
    },
    {
     "data": {
      "image/png": "[encoded data removed]",
      "text/plain": [
       "<Figure size 432x288 with 1 Axes>"
      ]
     },
     "metadata": {
      "needs_background": "light"
     },
     "output_type": "display_data"
    }
   ],
   "source": [
    "plt.scatter(pokemon2['HP'], pokemon2['Speed'], c = pokemon2['label'])"
   ]
  },
  {
   "cell_type": "markdown",
   "metadata": {},
   "source": [
    "The clusters are relatively separated, with some more outliers in the \"HP\" value. "
   ]
  },
  {
   "cell_type": "code",
   "execution_count": 33,
   "metadata": {},
   "outputs": [
    {
     "data": {
      "text/html": [
       "<style>#sk-container-id-6 {color: black;background-color: white;}#sk-container-id-6 pre{padding: 0;}#sk-container-id-6 div.sk-toggleable {background-color: white;}#sk-container-id-6 label.sk-toggleable__label {cursor: pointer;display: block;width: 100%;margin-bottom: 0;padding: 0.3em;box-sizing: border-box;text-align: center;}#sk-container-id-6 label.sk-toggleable__label-arrow:before {content: \"▸\";float: left;margin-right: 0.25em;color: #696969;}#sk-container-id-6 label.sk-toggleable__label-arrow:hover:before {color: black;}#sk-container-id-6 div.sk-estimator:hover label.sk-toggleable__label-arrow:before {color: black;}#sk-container-id-6 div.sk-toggleable__content {max-height: 0;max-width: 0;overflow: hidden;text-align: left;background-color: #f0f8ff;}#sk-container-id-6 div.sk-toggleable__content pre {margin: 0.2em;color: black;border-radius: 0.25em;background-color: #f0f8ff;}#sk-container-id-6 input.sk-toggleable__control:checked~div.sk-toggleable__content {max-height: 200px;max-width: 100%;overflow: auto;}#sk-container-id-6 input.sk-toggleable__control:checked~label.sk-toggleable__label-arrow:before {content: \"▾\";}#sk-container-id-6 div.sk-estimator input.sk-toggleable__control:checked~label.sk-toggleable__label {background-color: #d4ebff;}#sk-container-id-6 div.sk-label input.sk-toggleable__control:checked~label.sk-toggleable__label {background-color: #d4ebff;}#sk-container-id-6 input.sk-hidden--visually {border: 0;clip: rect(1px 1px 1px 1px);clip: rect(1px, 1px, 1px, 1px);height: 1px;margin: -1px;overflow: hidden;padding: 0;position: absolute;width: 1px;}#sk-container-id-6 div.sk-estimator {font-family: monospace;background-color: #f0f8ff;border: 1px dotted black;border-radius: 0.25em;box-sizing: border-box;margin-bottom: 0.5em;}#sk-container-id-6 div.sk-estimator:hover {background-color: #d4ebff;}#sk-container-id-6 div.sk-parallel-item::after {content: \"\";width: 100%;border-bottom: 1px solid gray;flex-grow: 1;}#sk-container-id-6 div.sk-label:hover label.sk-toggleable__label {background-color: #d4ebff;}#sk-container-id-6 div.sk-serial::before {content: \"\";position: absolute;border-left: 1px solid gray;box-sizing: border-box;top: 0;bottom: 0;left: 50%;z-index: 0;}#sk-container-id-6 div.sk-serial {display: flex;flex-direction: column;align-items: center;background-color: white;padding-right: 0.2em;padding-left: 0.2em;position: relative;}#sk-container-id-6 div.sk-item {position: relative;z-index: 1;}#sk-container-id-6 div.sk-parallel {display: flex;align-items: stretch;justify-content: center;background-color: white;position: relative;}#sk-container-id-6 div.sk-item::before, #sk-container-id-6 div.sk-parallel-item::before {content: \"\";position: absolute;border-left: 1px solid gray;box-sizing: border-box;top: 0;bottom: 0;left: 50%;z-index: -1;}#sk-container-id-6 div.sk-parallel-item {display: flex;flex-direction: column;z-index: 1;position: relative;background-color: white;}#sk-container-id-6 div.sk-parallel-item:first-child::after {align-self: flex-end;width: 50%;}#sk-container-id-6 div.sk-parallel-item:last-child::after {align-self: flex-start;width: 50%;}#sk-container-id-6 div.sk-parallel-item:only-child::after {width: 0;}#sk-container-id-6 div.sk-dashed-wrapped {border: 1px dashed gray;margin: 0 0.4em 0.5em 0.4em;box-sizing: border-box;padding-bottom: 0.4em;background-color: white;}#sk-container-id-6 div.sk-label label {font-family: monospace;font-weight: bold;display: inline-block;line-height: 1.2em;}#sk-container-id-6 div.sk-label-container {text-align: center;}#sk-container-id-6 div.sk-container {/* jupyter's `normalize.less` sets `[hidden] { display: none; }` but bootstrap.min.css set `[hidden] { display: none !important; }` so we also need the `!important` here to be able to override the default hidden behavior on the sphinx rendered scikit-learn.org. See: https://github.com/scikit-learn/scikit-learn/issues/21755 */display: inline-block !important;position: relative;}#sk-container-id-6 div.sk-text-repr-fallback {display: none;}</style><div id=\"sk-container-id-6\" class=\"sk-top-container\"><div class=\"sk-text-repr-fallback\"><pre>KMeans(n_clusters=4)</pre><b>In a Jupyter environment, please rerun this cell to show the HTML representation or trust the notebook. <br />On GitHub, the HTML representation is unable to render, please try loading this page with nbviewer.org.</b></div><div class=\"sk-container\" hidden><div class=\"sk-item\"><div class=\"sk-estimator sk-toggleable\"><input class=\"sk-toggleable__control sk-hidden--visually\" id=\"sk-estimator-id-6\" type=\"checkbox\" checked><label for=\"sk-estimator-id-6\" class=\"sk-toggleable__label sk-toggleable__label-arrow\">KMeans</label><div class=\"sk-toggleable__content\"><pre>KMeans(n_clusters=4)</pre></div></div></div></div></div>"
      ],
      "text/plain": [
       "KMeans(n_clusters=4)"
      ]
     },
     "execution_count": 33,
     "metadata": {},
     "output_type": "execute_result"
    }
   ],
   "source": [
    "km4 = KMeans(n_clusters = 4)\n",
    "pokemon4 = pokemon\n",
    "\n",
    "km4.fit(pokemon4)"
   ]
  },
  {
   "cell_type": "code",
   "execution_count": 34,
   "metadata": {},
   "outputs": [
    {
     "data": {
      "text/html": [
       "<div>\n",
       "<style scoped>\n",
       "    .dataframe tbody tr th:only-of-type {\n",
       "        vertical-align: middle;\n",
       "    }\n",
       "\n",
       "    .dataframe tbody tr th {\n",
       "        vertical-align: top;\n",
       "    }\n",
       "\n",
       "    .dataframe thead th {\n",
       "        text-align: right;\n",
       "    }\n",
       "</style>\n",
       "<table border=\"1\" class=\"dataframe\">\n",
       "  <thead>\n",
       "    <tr style=\"text-align: right;\">\n",
       "      <th></th>\n",
       "      <th>Total</th>\n",
       "      <th>HP</th>\n",
       "      <th>Attack</th>\n",
       "      <th>Defense</th>\n",
       "      <th>Sp. Atk</th>\n",
       "      <th>Sp. Def</th>\n",
       "      <th>Speed</th>\n",
       "      <th>Stage</th>\n",
       "      <th>label</th>\n",
       "      <th>label 4</th>\n",
       "    </tr>\n",
       "    <tr>\n",
       "      <th>Name</th>\n",
       "      <th></th>\n",
       "      <th></th>\n",
       "      <th></th>\n",
       "      <th></th>\n",
       "      <th></th>\n",
       "      <th></th>\n",
       "      <th></th>\n",
       "      <th></th>\n",
       "      <th></th>\n",
       "      <th></th>\n",
       "    </tr>\n",
       "  </thead>\n",
       "  <tbody>\n",
       "    <tr>\n",
       "      <th>Bulbasaur</th>\n",
       "      <td>318</td>\n",
       "      <td>45</td>\n",
       "      <td>49</td>\n",
       "      <td>49</td>\n",
       "      <td>65</td>\n",
       "      <td>65</td>\n",
       "      <td>45</td>\n",
       "      <td>1</td>\n",
       "      <td>0</td>\n",
       "      <td>1</td>\n",
       "    </tr>\n",
       "    <tr>\n",
       "      <th>Ivysaur</th>\n",
       "      <td>405</td>\n",
       "      <td>60</td>\n",
       "      <td>62</td>\n",
       "      <td>63</td>\n",
       "      <td>80</td>\n",
       "      <td>80</td>\n",
       "      <td>60</td>\n",
       "      <td>2</td>\n",
       "      <td>1</td>\n",
       "      <td>0</td>\n",
       "    </tr>\n",
       "    <tr>\n",
       "      <th>Venusaur</th>\n",
       "      <td>525</td>\n",
       "      <td>80</td>\n",
       "      <td>82</td>\n",
       "      <td>83</td>\n",
       "      <td>100</td>\n",
       "      <td>100</td>\n",
       "      <td>80</td>\n",
       "      <td>3</td>\n",
       "      <td>1</td>\n",
       "      <td>3</td>\n",
       "    </tr>\n",
       "    <tr>\n",
       "      <th>Charmander</th>\n",
       "      <td>309</td>\n",
       "      <td>39</td>\n",
       "      <td>52</td>\n",
       "      <td>43</td>\n",
       "      <td>60</td>\n",
       "      <td>50</td>\n",
       "      <td>65</td>\n",
       "      <td>1</td>\n",
       "      <td>0</td>\n",
       "      <td>1</td>\n",
       "    </tr>\n",
       "    <tr>\n",
       "      <th>Charmeleon</th>\n",
       "      <td>405</td>\n",
       "      <td>58</td>\n",
       "      <td>64</td>\n",
       "      <td>58</td>\n",
       "      <td>80</td>\n",
       "      <td>65</td>\n",
       "      <td>80</td>\n",
       "      <td>2</td>\n",
       "      <td>1</td>\n",
       "      <td>0</td>\n",
       "    </tr>\n",
       "  </tbody>\n",
       "</table>\n",
       "</div>"
      ],
      "text/plain": [
       "            Total  HP  Attack  Defense  Sp. Atk  Sp. Def  Speed  Stage  label  \\\n",
       "Name                                                                            \n",
       "Bulbasaur     318  45      49       49       65       65     45      1      0   \n",
       "Ivysaur       405  60      62       63       80       80     60      2      1   \n",
       "Venusaur      525  80      82       83      100      100     80      3      1   \n",
       "Charmander    309  39      52       43       60       50     65      1      0   \n",
       "Charmeleon    405  58      64       58       80       65     80      2      1   \n",
       "\n",
       "            label 4  \n",
       "Name                 \n",
       "Bulbasaur         1  \n",
       "Ivysaur           0  \n",
       "Venusaur          3  \n",
       "Charmander        1  \n",
       "Charmeleon        0  "
      ]
     },
     "execution_count": 34,
     "metadata": {},
     "output_type": "execute_result"
    }
   ],
   "source": [
    "pokemon4['label 4'] = km4.predict(pokemon4)\n",
    "\n",
    "pokemon4.head()"
   ]
  },
  {
   "cell_type": "code",
   "execution_count": 35,
   "metadata": {},
   "outputs": [
    {
     "data": {
      "text/html": [
       "<div>\n",
       "<style scoped>\n",
       "    .dataframe tbody tr th:only-of-type {\n",
       "        vertical-align: middle;\n",
       "    }\n",
       "\n",
       "    .dataframe tbody tr th {\n",
       "        vertical-align: top;\n",
       "    }\n",
       "\n",
       "    .dataframe thead th {\n",
       "        text-align: right;\n",
       "    }\n",
       "</style>\n",
       "<table border=\"1\" class=\"dataframe\">\n",
       "  <thead>\n",
       "    <tr style=\"text-align: right;\">\n",
       "      <th></th>\n",
       "      <th>Total</th>\n",
       "      <th>HP</th>\n",
       "      <th>Attack</th>\n",
       "      <th>Defense</th>\n",
       "      <th>Sp. Atk</th>\n",
       "      <th>Sp. Def</th>\n",
       "      <th>Speed</th>\n",
       "      <th>Stage</th>\n",
       "      <th>label</th>\n",
       "    </tr>\n",
       "    <tr>\n",
       "      <th>label 4</th>\n",
       "      <th></th>\n",
       "      <th></th>\n",
       "      <th></th>\n",
       "      <th></th>\n",
       "      <th></th>\n",
       "      <th></th>\n",
       "      <th></th>\n",
       "      <th></th>\n",
       "      <th></th>\n",
       "    </tr>\n",
       "  </thead>\n",
       "  <tbody>\n",
       "    <tr>\n",
       "      <th>0</th>\n",
       "      <td>423.282051</td>\n",
       "      <td>66.743590</td>\n",
       "      <td>73.358974</td>\n",
       "      <td>68.641026</td>\n",
       "      <td>69.897436</td>\n",
       "      <td>71.282051</td>\n",
       "      <td>73.358974</td>\n",
       "      <td>1.794872</td>\n",
       "      <td>0.769231</td>\n",
       "    </tr>\n",
       "    <tr>\n",
       "      <th>1</th>\n",
       "      <td>319.851064</td>\n",
       "      <td>47.255319</td>\n",
       "      <td>57.936170</td>\n",
       "      <td>58.063830</td>\n",
       "      <td>52.957447</td>\n",
       "      <td>50.170213</td>\n",
       "      <td>53.468085</td>\n",
       "      <td>1.063830</td>\n",
       "      <td>0.000000</td>\n",
       "    </tr>\n",
       "    <tr>\n",
       "      <th>2</th>\n",
       "      <td>238.000000</td>\n",
       "      <td>44.307692</td>\n",
       "      <td>40.769231</td>\n",
       "      <td>38.615385</td>\n",
       "      <td>29.692308</td>\n",
       "      <td>30.846154</td>\n",
       "      <td>53.769231</td>\n",
       "      <td>1.153846</td>\n",
       "      <td>0.000000</td>\n",
       "    </tr>\n",
       "    <tr>\n",
       "      <th>3</th>\n",
       "      <td>516.038462</td>\n",
       "      <td>82.615385</td>\n",
       "      <td>93.096154</td>\n",
       "      <td>84.500000</td>\n",
       "      <td>87.250000</td>\n",
       "      <td>85.192308</td>\n",
       "      <td>83.384615</td>\n",
       "      <td>2.000000</td>\n",
       "      <td>1.000000</td>\n",
       "    </tr>\n",
       "  </tbody>\n",
       "</table>\n",
       "</div>"
      ],
      "text/plain": [
       "              Total         HP     Attack    Defense    Sp. Atk    Sp. Def  \\\n",
       "label 4                                                                      \n",
       "0        423.282051  66.743590  73.358974  68.641026  69.897436  71.282051   \n",
       "1        319.851064  47.255319  57.936170  58.063830  52.957447  50.170213   \n",
       "2        238.000000  44.307692  40.769231  38.615385  29.692308  30.846154   \n",
       "3        516.038462  82.615385  93.096154  84.500000  87.250000  85.192308   \n",
       "\n",
       "             Speed     Stage     label  \n",
       "label 4                                 \n",
       "0        73.358974  1.794872  0.769231  \n",
       "1        53.468085  1.063830  0.000000  \n",
       "2        53.769231  1.153846  0.000000  \n",
       "3        83.384615  2.000000  1.000000  "
      ]
     },
     "execution_count": 35,
     "metadata": {},
     "output_type": "execute_result"
    }
   ],
   "source": [
    "c_means4 = pokemon4.groupby(['label 4']).agg('mean')\n",
    "c_means4"
   ]
  },
  {
   "cell_type": "markdown",
   "metadata": {},
   "source": [
    "- We can see that with 4 clusters, the order from highest values to lowest values in all features (HP, Attack, Defense, Speed, SpAtk and SpDef) are for Cluster 3-0-1-2.\n",
    "\n",
    "- The clusters signify better pokemons, corresponding to stage 2 versus stage 1, and with higher values in all features for clusters."
   ]
  },
  {
   "cell_type": "code",
   "execution_count": 43,
   "metadata": {},
   "outputs": [
    {
     "data": {
      "text/plain": [
       "<matplotlib.collections.PathCollection at 0x1ce54309030>"
      ]
     },
     "execution_count": 43,
     "metadata": {},
     "output_type": "execute_result"
    },
    {
     "data": {
      "image/png": "[encoded data removed]",
      "text/plain": [
       "<Figure size 432x288 with 1 Axes>"
      ]
     },
     "metadata": {
      "needs_background": "light"
     },
     "output_type": "display_data"
    }
   ],
   "source": [
    "plt.scatter(pokemon4['Attack'], pokemon4['Defense'], c = pokemon4['label 4'])"
   ]
  },
  {
   "cell_type": "markdown",
   "metadata": {},
   "source": [
    "We can see the separation of clusters with increasingly higher Attack and Defense values."
   ]
  },
  {
   "cell_type": "markdown",
   "metadata": {},
   "source": [
    "### Hierarchical Clustering\n",
    "\n",
    "Since we don't know how many clusters there should be in the data, a better approach is to use Hierarchical clustering and examine the dendograph to understand what natural clusters are present in the data.  \n",
    "\n",
    "Apply Hiearchical clustering to the data and plot the dendogram.  From this diagram, how many clusters should the data be separated into?   Can you characterise these clusters? "
   ]
  },
  {
   "cell_type": "code",
   "execution_count": 44,
   "metadata": {},
   "outputs": [
    {
     "data": {
      "text/plain": [
       "array([ 94.005319  , 223.61350585,  28.4956137 , ..., 112.89818422,\n",
       "        40.81666326, 102.72292831])"
      ]
     },
     "execution_count": 44,
     "metadata": {},
     "output_type": "execute_result"
    }
   ],
   "source": [
    "dist_poke = pdist(pokemon, 'euclidean')\n",
    "\n",
    "dist_poke"
   ]
  },
  {
   "cell_type": "code",
   "execution_count": 45,
   "metadata": {},
   "outputs": [
    {
     "data": {
      "text/plain": [
       "array([[ 43.        , 136.        ,   7.14142843,   2.        ],\n",
       "       [  9.        ,  12.        ,  10.        ,   2.        ],\n",
       "       [ 10.        ,  13.        ,  10.        ,   2.        ],\n",
       "       [ 15.        ,  40.        ,  10.58300524,   2.        ],\n",
       "       [ 51.        ,  59.        ,  12.24744871,   2.        ],\n",
       "       [ 25.        , 124.        ,  13.37908816,   2.        ],\n",
       "       [ 30.        ,  61.        ,  13.56465997,   2.        ],\n",
       "       [144.        , 145.        ,  15.8113883 ,   2.        ],\n",
       "       [ 18.        ,  20.        ,  16.673332  ,   2.        ],\n",
       "       [ 56.        ,  84.        ,  17.32050808,   2.        ],\n",
       "       [ 55.        ,  83.        ,  17.32050808,   2.        ],\n",
       "       [126.        , 140.        ,  17.34935157,   2.        ],\n",
       "       [ 22.        , 146.        ,  18.38477631,   2.        ],\n",
       "       [ 85.        , 132.        ,  18.70828693,   2.        ],\n",
       "       [ 29.        ,  32.        ,  19.02629759,   2.        ],\n",
       "       [  0.        ,  53.        ,  19.07878403,   2.        ],\n",
       "       [ 19.        ,  76.        ,  19.36491673,   2.        ],\n",
       "       [ 28.        ,  31.        ,  20.24845673,   2.        ],\n",
       "       [ 57.        ,  82.        ,  20.63976744,   2.        ],\n",
       "       [131.        , 163.        ,  21.86321111,   3.        ],\n",
       "       [  1.        ,   7.        ,  22.8035085 ,   2.        ],\n",
       "       [ 23.        , 147.        ,  23.40939982,   2.        ],\n",
       "       [ 33.        ,  54.        ,  23.51595203,   2.        ],\n",
       "       [  3.        ,  36.        ,  23.57965225,   2.        ],\n",
       "       [125.        , 156.        ,  23.85372088,   3.        ],\n",
       "       [  2.        ,   8.        ,  23.87467277,   2.        ],\n",
       "       [ 86.        ,  96.        ,  24.81934729,   2.        ],\n",
       "       [ 21.        ,  52.        ,  26.19160171,   2.        ],\n",
       "       [ 37.        ,  72.        ,  26.19160171,   2.        ],\n",
       "       [ 16.        , 165.        ,  26.98147513,   3.        ],\n",
       "       [ 41.        , 118.        ,  26.98147513,   2.        ],\n",
       "       [  6.        , 164.        ,  27.12931993,   3.        ],\n",
       "       [122.        , 127.        ,  28.28427125,   2.        ],\n",
       "       [ 47.        , 182.        ,  28.28427125,   4.        ],\n",
       "       [ 77.        , 175.        ,  28.44292531,   4.        ],\n",
       "       [154.        , 159.        ,  29.08607914,   4.        ],\n",
       "       [ 26.        ,  73.        ,  29.15475947,   2.        ],\n",
       "       [ 78.        ,  87.        ,  29.15475947,   2.        ],\n",
       "       [ 63.        ,  92.        ,  29.15475947,   2.        ],\n",
       "       [ 99.        , 119.        ,  30.        ,   2.        ],\n",
       "       [101.        , 103.        ,  30.        ,   2.        ],\n",
       "       [  4.        ,  11.        ,  30.91924967,   2.        ],\n",
       "       [  5.        , 120.        ,  30.9354166 ,   2.        ],\n",
       "       [ 34.        ,  42.        ,  30.95157508,   2.        ],\n",
       "       [151.        , 171.        ,  31.55946768,   4.        ],\n",
       "       [108.        , 139.        ,  31.6227766 ,   2.        ],\n",
       "       [ 62.        ,  91.        ,  31.6227766 ,   2.        ],\n",
       "       [ 64.        ,  93.        ,  31.6227766 ,   2.        ],\n",
       "       [ 35.        ,  44.        ,  31.9217794 ,   2.        ],\n",
       "       [105.        , 106.        ,  31.96873473,   2.        ],\n",
       "       [170.        , 174.        ,  32.21800739,   5.        ],\n",
       "       [166.        , 194.        ,  33.28663395,   4.        ],\n",
       "       [117.        , 161.        ,  33.43650699,   3.        ],\n",
       "       [ 70.        , 173.        ,  33.89690251,   3.        ],\n",
       "       [ 67.        ,  88.        ,  33.92639091,   2.        ],\n",
       "       [ 24.        , 190.        ,  34.64101615,   3.        ],\n",
       "       [ 46.        ,  66.        ,  35.35533906,   2.        ],\n",
       "       [169.        , 180.        ,  35.56683849,   5.        ],\n",
       "       [113.        , 116.        ,  36.06937759,   2.        ],\n",
       "       [167.        , 172.        ,  37.10795063,   4.        ],\n",
       "       [ 65.        , 188.        ,  37.41657387,   3.        ],\n",
       "       [ 89.        , 187.        ,  37.41657387,   3.        ],\n",
       "       [ 75.        , 111.        ,  38.09199391,   2.        ],\n",
       "       [152.        , 153.        ,  38.74274126,   4.        ],\n",
       "       [ 98.        , 162.        ,  38.74274126,   3.        ],\n",
       "       [ 45.        , 168.        ,  39.30648801,   3.        ],\n",
       "       [ 71.        ,  95.        ,  39.3192065 ,   2.        ],\n",
       "       [150.        , 158.        ,  39.37003937,   3.        ],\n",
       "       [130.        , 133.        ,  39.38273734,   2.        ],\n",
       "       [157.        , 176.        ,  41.68932717,   4.        ],\n",
       "       [ 48.        , 178.        ,  43.31281566,   3.        ],\n",
       "       [109.        , 138.        ,  43.58898944,   2.        ],\n",
       "       [134.        , 198.        ,  43.60045871,   3.        ],\n",
       "       [ 17.        , 183.        ,  44.38468204,   3.        ],\n",
       "       [114.        , 224.        ,  44.72135955,   4.        ],\n",
       "       [184.        , 202.        ,  45.27692569,   8.        ],\n",
       "       [ 80.        , 137.        ,  45.27692569,   2.        ],\n",
       "       [192.        , 195.        ,  45.78209257,   6.        ],\n",
       "       [160.        , 181.        ,  47.93745926,   4.        ],\n",
       "       [ 27.        , 104.        ,  47.95831523,   2.        ],\n",
       "       [155.        , 201.        ,  48.60041152,   7.        ],\n",
       "       [ 79.        , 222.        ,  49.49747468,   3.        ],\n",
       "       [121.        , 123.        ,  49.49747468,   2.        ],\n",
       "       [ 14.        ,  60.        ,  50.009999  ,   2.        ],\n",
       "       [185.        , 204.        ,  50.5074252 ,   7.        ],\n",
       "       [ 97.        , 212.        ,  50.99019514,   4.        ],\n",
       "       [ 58.        , 129.        ,  51.69139193,   2.        ],\n",
       "       [177.        , 199.        ,  52.02883816,   4.        ],\n",
       "       [ 68.        , 216.        ,  52.20153254,   4.        ],\n",
       "       [179.        , 193.        ,  52.88667129,   4.        ],\n",
       "       [143.        , 218.        ,  53.38539126,   4.        ],\n",
       "       [ 81.        , 209.        ,  54.32310742,   3.        ],\n",
       "       [107.        , 207.        ,  55.69560126,   3.        ],\n",
       "       [ 49.        , 186.        ,  56.1248608 ,   5.        ],\n",
       "       [191.        , 226.        ,  57.16642371,  10.        ],\n",
       "       [203.        , 231.        ,  57.5847202 ,  10.        ],\n",
       "       [ 69.        , 234.        ,  57.88782255,   3.        ],\n",
       "       [210.        , 221.        ,  59.36328832,   7.        ],\n",
       "       [148.        , 241.        ,  59.71599451,   5.        ],\n",
       "       [141.        , 225.        ,  60.        ,   5.        ],\n",
       "       [229.        , 248.        ,  60.00833275,  11.        ],\n",
       "       [128.        , 214.        ,  60.42350536,   5.        ],\n",
       "       [196.        , 208.        ,  60.47313453,   7.        ],\n",
       "       [ 74.        , 110.        ,  60.84406298,   2.        ],\n",
       "       [115.        , 239.        ,  63.2455532 ,   5.        ],\n",
       "       [220.        , 237.        ,  64.03905059,   6.        ],\n",
       "       [102.        , 219.        ,  64.03905059,   3.        ],\n",
       "       [135.        , 205.        ,  65.57438524,   3.        ],\n",
       "       [228.        , 247.        ,  68.2202316 ,   9.        ],\n",
       "       [211.        , 245.        ,  68.5273668 ,  13.        ],\n",
       "       [100.        , 223.        ,  68.56383887,   4.        ],\n",
       "       [206.        , 246.        ,  70.62577433,  13.        ],\n",
       "       [213.        , 215.        ,  72.11102551,   5.        ],\n",
       "       [235.        , 238.        ,  73.15052973,  11.        ],\n",
       "       [240.        , 264.        ,  79.66806135,  15.        ],\n",
       "       [227.        , 253.        ,  80.21845174,   9.        ],\n",
       "       [243.        , 259.        ,  80.94442538,  12.        ],\n",
       "       [256.        , 258.        ,  83.36666   ,   9.        ],\n",
       "       [217.        , 262.        ,  85.14693183,  15.        ],\n",
       "       [ 50.        , 251.        ,  86.30179604,  12.        ],\n",
       "       [233.        , 261.        ,  87.23531395,   6.        ],\n",
       "       [244.        , 255.        ,  88.32326987,  10.        ],\n",
       "       [200.        , 270.        ,  89.17959408,  14.        ],\n",
       "       [230.        , 242.        ,  92.46621004,   5.        ],\n",
       "       [257.        , 268.        ,  94.33981132,  12.        ],\n",
       "       [236.        , 260.        , 100.08995954,  17.        ],\n",
       "       [232.        , 274.        , 100.29456615,   8.        ],\n",
       "       [265.        , 271.        , 102.71806073,  21.        ],\n",
       "       [197.        , 269.        , 103.68220677,  17.        ],\n",
       "       [266.        , 276.        , 106.06601718,  26.        ],\n",
       "       [ 94.        , 254.        , 108.17116067,   3.        ],\n",
       "       [ 39.        , 267.        , 108.63240769,  13.        ],\n",
       "       [142.        , 275.        , 108.63240769,  13.        ],\n",
       "       [ 90.        , 263.        , 109.31605555,   6.        ],\n",
       "       [272.        , 279.        , 112.47221879,  27.        ],\n",
       "       [250.        , 273.        , 123.32882875,  19.        ],\n",
       "       [249.        , 283.        , 127.27922061,  18.        ],\n",
       "       [189.        , 282.        , 133.7908816 ,  15.        ],\n",
       "       [277.        , 284.        , 135.31075345,  14.        ],\n",
       "       [ 38.        , 285.        , 140.53825102,  28.        ],\n",
       "       [280.        , 281.        , 149.33519344,  29.        ],\n",
       "       [278.        , 286.        , 152.99019576,  40.        ],\n",
       "       [252.        , 290.        , 166.28589838,  33.        ],\n",
       "       [288.        , 292.        , 182.92348127,  55.        ],\n",
       "       [287.        , 289.        , 197.13447187,  32.        ],\n",
       "       [291.        , 293.        , 232.92488059,  62.        ],\n",
       "       [294.        , 295.        , 241.99586773,  87.        ],\n",
       "       [112.        , 297.        , 301.42992552,  88.        ],\n",
       "       [149.        , 298.        , 335.67990705,  89.        ],\n",
       "       [296.        , 299.        , 527.68740747, 151.        ]])"
      ]
     },
     "execution_count": 45,
     "metadata": {},
     "output_type": "execute_result"
    }
   ],
   "source": [
    "linkage_poke = linkage(dist_poke, method = 'complete')\n",
    "\n",
    "linkage_poke"
   ]
  },
  {
   "cell_type": "code",
   "execution_count": 46,
   "metadata": {},
   "outputs": [
    {
     "data": {
      "image/png": "[encoded data removed]",
      "text/plain": [
       "<Figure size 1296x864 with 1 Axes>"
      ]
     },
     "metadata": {
      "needs_background": "light"
     },
     "output_type": "display_data"
    }
   ],
   "source": [
    "plt.figure(figsize =(18,12))\n",
    "\n",
    "dendrogram(linkage_poke)\n",
    "\n",
    "plt.show()"
   ]
  },
  {
   "cell_type": "markdown",
   "metadata": {},
   "source": [
    "From this diagram, we can see that there are some clear clusters at 4 clusters. From more than 4, the separations are not as clear anymore, with clusters overlapping and being too close to one another. They correspond to increasing values of all the features."
   ]
  },
  {
   "cell_type": "markdown",
   "metadata": {},
   "source": [
    "## Text Analysis\n",
    "\n",
    "Text is an important data source and in the lecture we looked at how to use word vectors to create features from text. We can use this method to derive a numerical vector from each text and then perform clustering on the texts.  \n",
    "\n",
    "We'll use a set of book summaries from the [CMU Book Summaries Corpus](http://www.cs.cmu.edu/~dbamman/booksummaries.html) in this experiment.  This contains a large number of summaries (16,559) but we'll work with just the first 100 books which usefully include some of the 'books' from the Bible which we might expect to form a cluster different to the other texts.  \n",
    "\n",
    "The first task is to read the data. It is made available in tab-separated format but has no column headings. We can use `read_csv` to read this but we need to set the separator to `\\t` (tab) and supply the column names.  The names come from the [ReadMe](files/booksummaries/README.txt) file."
   ]
  },
  {
   "cell_type": "code",
   "execution_count": 47,
   "metadata": {},
   "outputs": [
    {
     "data": {
      "text/html": [
       "<div>\n",
       "<style scoped>\n",
       "    .dataframe tbody tr th:only-of-type {\n",
       "        vertical-align: middle;\n",
       "    }\n",
       "\n",
       "    .dataframe tbody tr th {\n",
       "        vertical-align: top;\n",
       "    }\n",
       "\n",
       "    .dataframe thead th {\n",
       "        text-align: right;\n",
       "    }\n",
       "</style>\n",
       "<table border=\"1\" class=\"dataframe\">\n",
       "  <thead>\n",
       "    <tr style=\"text-align: right;\">\n",
       "      <th></th>\n",
       "      <th>wid</th>\n",
       "      <th>fid</th>\n",
       "      <th>title</th>\n",
       "      <th>author</th>\n",
       "      <th>date</th>\n",
       "      <th>genres</th>\n",
       "      <th>summary</th>\n",
       "    </tr>\n",
       "  </thead>\n",
       "  <tbody>\n",
       "    <tr>\n",
       "      <th>0</th>\n",
       "      <td>620</td>\n",
       "      <td>/m/0hhy</td>\n",
       "      <td>Animal Farm</td>\n",
       "      <td>George Orwell</td>\n",
       "      <td>1945-08-17</td>\n",
       "      <td>{\"/m/016lj8\": \"Roman \\u00e0 clef\", \"/m/06nbt\":...</td>\n",
       "      <td>Old Major, the old boar on the Manor Farm, ca...</td>\n",
       "    </tr>\n",
       "    <tr>\n",
       "      <th>1</th>\n",
       "      <td>843</td>\n",
       "      <td>/m/0k36</td>\n",
       "      <td>A Clockwork Orange</td>\n",
       "      <td>Anthony Burgess</td>\n",
       "      <td>1962</td>\n",
       "      <td>{\"/m/06n90\": \"Science Fiction\", \"/m/0l67h\": \"N...</td>\n",
       "      <td>Alex, a teenager living in near-future Englan...</td>\n",
       "    </tr>\n",
       "    <tr>\n",
       "      <th>2</th>\n",
       "      <td>986</td>\n",
       "      <td>/m/0ldx</td>\n",
       "      <td>The Plague</td>\n",
       "      <td>Albert Camus</td>\n",
       "      <td>1947</td>\n",
       "      <td>{\"/m/02m4t\": \"Existentialism\", \"/m/02xlf\": \"Fi...</td>\n",
       "      <td>The text of The Plague is divided into five p...</td>\n",
       "    </tr>\n",
       "    <tr>\n",
       "      <th>3</th>\n",
       "      <td>1756</td>\n",
       "      <td>/m/0sww</td>\n",
       "      <td>An Enquiry Concerning Human Understanding</td>\n",
       "      <td>David Hume</td>\n",
       "      <td>NaN</td>\n",
       "      <td>NaN</td>\n",
       "      <td>The argument of the Enquiry proceeds by a ser...</td>\n",
       "    </tr>\n",
       "    <tr>\n",
       "      <th>4</th>\n",
       "      <td>2080</td>\n",
       "      <td>/m/0wkt</td>\n",
       "      <td>A Fire Upon the Deep</td>\n",
       "      <td>Vernor Vinge</td>\n",
       "      <td>NaN</td>\n",
       "      <td>{\"/m/03lrw\": \"Hard science fiction\", \"/m/06n90...</td>\n",
       "      <td>The novel posits that space around the Milky ...</td>\n",
       "    </tr>\n",
       "  </tbody>\n",
       "</table>\n",
       "</div>"
      ],
      "text/plain": [
       "    wid      fid                                      title           author  \\\n",
       "0   620  /m/0hhy                                Animal Farm    George Orwell   \n",
       "1   843  /m/0k36                         A Clockwork Orange  Anthony Burgess   \n",
       "2   986  /m/0ldx                                 The Plague     Albert Camus   \n",
       "3  1756  /m/0sww  An Enquiry Concerning Human Understanding       David Hume   \n",
       "4  2080  /m/0wkt                       A Fire Upon the Deep     Vernor Vinge   \n",
       "\n",
       "         date                                             genres  \\\n",
       "0  1945-08-17  {\"/m/016lj8\": \"Roman \\u00e0 clef\", \"/m/06nbt\":...   \n",
       "1        1962  {\"/m/06n90\": \"Science Fiction\", \"/m/0l67h\": \"N...   \n",
       "2        1947  {\"/m/02m4t\": \"Existentialism\", \"/m/02xlf\": \"Fi...   \n",
       "3         NaN                                                NaN   \n",
       "4         NaN  {\"/m/03lrw\": \"Hard science fiction\", \"/m/06n90...   \n",
       "\n",
       "                                             summary  \n",
       "0   Old Major, the old boar on the Manor Farm, ca...  \n",
       "1   Alex, a teenager living in near-future Englan...  \n",
       "2   The text of The Plague is divided into five p...  \n",
       "3   The argument of the Enquiry proceeds by a ser...  \n",
       "4   The novel posits that space around the Milky ...  "
      ]
     },
     "execution_count": 47,
     "metadata": {},
     "output_type": "execute_result"
    }
   ],
   "source": [
    "names = ['wid', 'fid', 'title', 'author', 'date', 'genres', 'summary']\n",
    "\n",
    "books = pd.read_csv(\"data/booksummaries/booksummaries.txt\", sep=\"\\t\", header=None, names=names)\n",
    "\n",
    "# select just the first 100 books\n",
    "books = books[:100]\n",
    "\n",
    "books.head()"
   ]
  },
  {
   "cell_type": "markdown",
   "metadata": {},
   "source": [
    "To analyse the text, you first need to compute the numerical features. To do this, use the `TfidfVectorizer` from the sklearn library (this is already imported at the top of this notebook) following the method used in the lecture.  Use a small number of features (word) in your vectorizer (eg. 50-100) just to simplify understanding the process.  \n",
    "\n",
    "Once you have done this you can apply the clustering methods to this data just as you did above for the Pokemon data. Use the same approach to cluster these 100 books and understand the clusters you find. Note, the features you have now will be word TFIDF scores and you probably have 50-100 of them making it harder to understand the clusters numerically. So, you will have to look at the book titles, authors and publication dates to see if you can understand what clusters have been formed. In particular, look to see if the Bible books have been put into the same cluster distinct from the other texts. "
   ]
  },
  {
   "cell_type": "code",
   "execution_count": 48,
   "metadata": {},
   "outputs": [],
   "source": [
    "vectorizer = TfidfVectorizer(max_features = 50)"
   ]
  },
  {
   "cell_type": "code",
   "execution_count": 49,
   "metadata": {},
   "outputs": [
    {
     "name": "stdout",
     "output_type": "stream",
     "text": [
      "['about', 'after', 'all', 'an', 'and', 'are', 'as', 'at', 'be', 'been', 'but', 'by', 'for', 'from', 'god', 'had', 'has', 'have', 'he', 'her', 'him', 'his', 'in', 'into', 'is', 'it', 'not', 'of', 'on', 'one', 'or', 'out', 'she', 'that', 'the', 'their', 'them', 'then', 'they', 'this', 'to', 'two', 'up', 'was', 'when', 'where', 'which', 'who', 'will', 'with']\n"
     ]
    },
    {
     "name": "stderr",
     "output_type": "stream",
     "text": [
      "C:\\Users\\TChu0702\\lib\\site-packages\\sklearn\\utils\\deprecation.py:87: FutureWarning: Function get_feature_names is deprecated; get_feature_names is deprecated in 1.0 and will be removed in 1.2. Please use get_feature_names_out instead.\n",
      "  warnings.warn(msg, category=FutureWarning)\n"
     ]
    }
   ],
   "source": [
    "X = vectorizer.fit_transform(books.summary).toarray()\n",
    "\n",
    "print(vectorizer.get_feature_names())"
   ]
  },
  {
   "cell_type": "code",
   "execution_count": 50,
   "metadata": {},
   "outputs": [
    {
     "data": {
      "text/plain": [
       "array([0.3505848 , 0.23706417, 0.4864717 , ..., 0.38342147, 0.45620081,\n",
       "       0.39611752])"
      ]
     },
     "execution_count": 50,
     "metadata": {},
     "output_type": "execute_result"
    }
   ],
   "source": [
    "dist_book = pdist(X, 'euclidean')\n",
    "\n",
    "dist_book"
   ]
  },
  {
   "cell_type": "code",
   "execution_count": 51,
   "metadata": {},
   "outputs": [
    {
     "data": {
      "text/plain": [
       "array([[1.00000000e+01, 1.20000000e+01, 1.88659647e-01, 2.00000000e+00],\n",
       "       [0.00000000e+00, 9.80000000e+01, 2.16315769e-01, 2.00000000e+00],\n",
       "       [7.20000000e+01, 8.60000000e+01, 2.22236497e-01, 2.00000000e+00],\n",
       "       [2.80000000e+01, 1.00000000e+02, 2.29063478e-01, 3.00000000e+00],\n",
       "       [8.90000000e+01, 9.10000000e+01, 2.30847534e-01, 2.00000000e+00],\n",
       "       [4.20000000e+01, 8.40000000e+01, 2.32464147e-01, 2.00000000e+00],\n",
       "       [3.00000000e+01, 9.30000000e+01, 2.32660155e-01, 2.00000000e+00],\n",
       "       [4.60000000e+01, 9.00000000e+01, 2.41551874e-01, 2.00000000e+00],\n",
       "       [2.00000000e+00, 6.70000000e+01, 2.43085995e-01, 2.00000000e+00],\n",
       "       [2.30000000e+01, 9.90000000e+01, 2.51743482e-01, 2.00000000e+00],\n",
       "       [1.00000000e+00, 1.07000000e+02, 2.53740040e-01, 3.00000000e+00],\n",
       "       [7.00000000e+01, 1.02000000e+02, 2.53756470e-01, 3.00000000e+00],\n",
       "       [2.10000000e+01, 3.50000000e+01, 2.64141242e-01, 2.00000000e+00],\n",
       "       [4.30000000e+01, 5.90000000e+01, 2.67673598e-01, 2.00000000e+00],\n",
       "       [2.70000000e+01, 7.50000000e+01, 2.70194830e-01, 2.00000000e+00],\n",
       "       [3.30000000e+01, 5.30000000e+01, 2.73694102e-01, 2.00000000e+00],\n",
       "       [4.40000000e+01, 1.08000000e+02, 2.75056798e-01, 3.00000000e+00],\n",
       "       [4.50000000e+01, 5.40000000e+01, 2.76210391e-01, 2.00000000e+00],\n",
       "       [2.20000000e+01, 2.60000000e+01, 2.81758546e-01, 2.00000000e+00],\n",
       "       [7.80000000e+01, 8.50000000e+01, 2.88632270e-01, 2.00000000e+00],\n",
       "       [6.00000000e+00, 7.60000000e+01, 2.89676532e-01, 2.00000000e+00],\n",
       "       [5.80000000e+01, 8.10000000e+01, 2.89988893e-01, 2.00000000e+00],\n",
       "       [1.04000000e+02, 1.16000000e+02, 2.92144437e-01, 5.00000000e+00],\n",
       "       [5.00000000e+00, 8.00000000e+01, 2.93293762e-01, 2.00000000e+00],\n",
       "       [6.80000000e+01, 1.12000000e+02, 2.94789281e-01, 3.00000000e+00],\n",
       "       [2.90000000e+01, 5.50000000e+01, 2.98391739e-01, 2.00000000e+00],\n",
       "       [6.00000000e+01, 1.06000000e+02, 2.99042565e-01, 3.00000000e+00],\n",
       "       [4.00000000e+00, 5.20000000e+01, 3.01059045e-01, 2.00000000e+00],\n",
       "       [1.01000000e+02, 1.22000000e+02, 3.05537458e-01, 7.00000000e+00],\n",
       "       [4.90000000e+01, 1.03000000e+02, 3.06668748e-01, 4.00000000e+00],\n",
       "       [3.90000000e+01, 5.10000000e+01, 3.14073961e-01, 2.00000000e+00],\n",
       "       [6.50000000e+01, 7.30000000e+01, 3.21144701e-01, 2.00000000e+00],\n",
       "       [7.00000000e+00, 1.40000000e+01, 3.28072322e-01, 2.00000000e+00],\n",
       "       [3.60000000e+01, 1.15000000e+02, 3.33286199e-01, 3.00000000e+00],\n",
       "       [7.40000000e+01, 1.17000000e+02, 3.41273415e-01, 3.00000000e+00],\n",
       "       [1.14000000e+02, 1.25000000e+02, 3.43042117e-01, 4.00000000e+00],\n",
       "       [1.10000000e+01, 1.29000000e+02, 3.45530272e-01, 5.00000000e+00],\n",
       "       [6.10000000e+01, 6.20000000e+01, 3.46063227e-01, 2.00000000e+00],\n",
       "       [1.10000000e+02, 1.35000000e+02, 3.46491658e-01, 7.00000000e+00],\n",
       "       [4.10000000e+01, 1.32000000e+02, 3.53127023e-01, 3.00000000e+00],\n",
       "       [3.00000000e+00, 1.26000000e+02, 3.53440361e-01, 4.00000000e+00],\n",
       "       [1.11000000e+02, 1.28000000e+02, 3.59899819e-01, 1.00000000e+01],\n",
       "       [6.90000000e+01, 1.34000000e+02, 3.62265701e-01, 4.00000000e+00],\n",
       "       [3.40000000e+01, 1.30000000e+02, 3.63044400e-01, 3.00000000e+00],\n",
       "       [1.05000000e+02, 1.21000000e+02, 3.65128158e-01, 4.00000000e+00],\n",
       "       [1.30000000e+01, 1.24000000e+02, 3.70900267e-01, 4.00000000e+00],\n",
       "       [9.70000000e+01, 1.33000000e+02, 3.72159624e-01, 4.00000000e+00],\n",
       "       [7.90000000e+01, 1.23000000e+02, 3.73121008e-01, 3.00000000e+00],\n",
       "       [5.60000000e+01, 1.27000000e+02, 3.73820811e-01, 3.00000000e+00],\n",
       "       [8.20000000e+01, 1.20000000e+02, 3.75908882e-01, 3.00000000e+00],\n",
       "       [1.60000000e+01, 3.20000000e+01, 3.76065636e-01, 2.00000000e+00],\n",
       "       [1.13000000e+02, 1.43000000e+02, 3.83841922e-01, 5.00000000e+00],\n",
       "       [2.50000000e+01, 7.10000000e+01, 3.85270873e-01, 2.00000000e+00],\n",
       "       [3.80000000e+01, 6.40000000e+01, 3.88165679e-01, 2.00000000e+00],\n",
       "       [6.30000000e+01, 6.60000000e+01, 3.96904550e-01, 2.00000000e+00],\n",
       "       [9.00000000e+00, 1.39000000e+02, 4.10734170e-01, 4.00000000e+00],\n",
       "       [1.80000000e+01, 1.50000000e+02, 4.12630712e-01, 3.00000000e+00],\n",
       "       [3.10000000e+01, 8.80000000e+01, 4.14980162e-01, 2.00000000e+00],\n",
       "       [1.50000000e+01, 4.00000000e+01, 4.15026407e-01, 2.00000000e+00],\n",
       "       [1.18000000e+02, 1.45000000e+02, 4.17994178e-01, 6.00000000e+00],\n",
       "       [9.50000000e+01, 1.09000000e+02, 4.18655949e-01, 3.00000000e+00],\n",
       "       [9.20000000e+01, 1.42000000e+02, 4.24623437e-01, 5.00000000e+00],\n",
       "       [1.41000000e+02, 1.48000000e+02, 4.43616332e-01, 1.30000000e+01],\n",
       "       [1.47000000e+02, 1.57000000e+02, 4.50536341e-01, 5.00000000e+00],\n",
       "       [2.40000000e+01, 3.70000000e+01, 4.50655225e-01, 2.00000000e+00],\n",
       "       [5.00000000e+01, 9.40000000e+01, 4.52894297e-01, 2.00000000e+00],\n",
       "       [1.19000000e+02, 1.62000000e+02, 4.54578651e-01, 1.50000000e+01],\n",
       "       [8.30000000e+01, 1.37000000e+02, 4.60439984e-01, 3.00000000e+00],\n",
       "       [5.70000000e+01, 1.40000000e+02, 4.64326339e-01, 5.00000000e+00],\n",
       "       [1.46000000e+02, 1.61000000e+02, 4.81921519e-01, 9.00000000e+00],\n",
       "       [1.38000000e+02, 1.44000000e+02, 4.85695796e-01, 1.10000000e+01],\n",
       "       [1.60000000e+02, 1.64000000e+02, 4.97981626e-01, 5.00000000e+00],\n",
       "       [7.70000000e+01, 1.65000000e+02, 5.10331911e-01, 3.00000000e+00],\n",
       "       [1.49000000e+02, 1.70000000e+02, 5.47552172e-01, 1.40000000e+01],\n",
       "       [1.55000000e+02, 1.71000000e+02, 5.53199312e-01, 9.00000000e+00],\n",
       "       [1.70000000e+01, 1.58000000e+02, 5.56702180e-01, 3.00000000e+00],\n",
       "       [1.54000000e+02, 1.67000000e+02, 5.61936985e-01, 5.00000000e+00],\n",
       "       [1.51000000e+02, 1.52000000e+02, 5.64299068e-01, 7.00000000e+00],\n",
       "       [8.70000000e+01, 1.53000000e+02, 5.66964444e-01, 3.00000000e+00],\n",
       "       [1.59000000e+02, 1.74000000e+02, 5.92682872e-01, 1.50000000e+01],\n",
       "       [1.90000000e+01, 9.60000000e+01, 5.94876856e-01, 2.00000000e+00],\n",
       "       [1.69000000e+02, 1.73000000e+02, 6.14301184e-01, 2.30000000e+01],\n",
       "       [1.36000000e+02, 1.66000000e+02, 6.16760003e-01, 2.00000000e+01],\n",
       "       [1.63000000e+02, 1.72000000e+02, 6.32902987e-01, 8.00000000e+00],\n",
       "       [8.00000000e+00, 1.80000000e+02, 6.41727347e-01, 3.00000000e+00],\n",
       "       [1.31000000e+02, 1.77000000e+02, 6.79738390e-01, 9.00000000e+00],\n",
       "       [2.00000000e+01, 1.84000000e+02, 6.98549065e-01, 4.00000000e+00],\n",
       "       [1.68000000e+02, 1.78000000e+02, 7.01755065e-01, 8.00000000e+00],\n",
       "       [4.80000000e+01, 1.76000000e+02, 7.12203550e-01, 6.00000000e+00],\n",
       "       [1.56000000e+02, 1.75000000e+02, 7.30556300e-01, 6.00000000e+00],\n",
       "       [1.85000000e+02, 1.88000000e+02, 8.69036566e-01, 1.50000000e+01],\n",
       "       [1.82000000e+02, 1.87000000e+02, 8.80370723e-01, 2.80000000e+01],\n",
       "       [1.86000000e+02, 1.91000000e+02, 9.18531464e-01, 3.20000000e+01],\n",
       "       [4.70000000e+01, 1.83000000e+02, 9.19485351e-01, 9.00000000e+00],\n",
       "       [1.90000000e+02, 1.93000000e+02, 1.03995372e+00, 2.40000000e+01],\n",
       "       [1.81000000e+02, 1.92000000e+02, 1.13584942e+00, 5.50000000e+01],\n",
       "       [1.79000000e+02, 1.94000000e+02, 1.39374953e+00, 3.90000000e+01],\n",
       "       [1.95000000e+02, 1.96000000e+02, 1.87881158e+00, 9.40000000e+01],\n",
       "       [1.89000000e+02, 1.97000000e+02, 1.90866729e+00, 1.00000000e+02]])"
      ]
     },
     "execution_count": 51,
     "metadata": {},
     "output_type": "execute_result"
    }
   ],
   "source": [
    "linkage_matrix = linkage(dist_book, method = 'ward')\n",
    "\n",
    "linkage_matrix"
   ]
  },
  {
   "cell_type": "code",
   "execution_count": 56,
   "metadata": {},
   "outputs": [
    {
     "data": {
      "image/png": "[encoded data removed]",
      "text/plain": [
       "<Figure size 1440x720 with 1 Axes>"
      ]
     },
     "metadata": {
      "needs_background": "light"
     },
     "output_type": "display_data"
    }
   ],
   "source": [
    "plt.figure(figsize = (20,10))\n",
    "\n",
    "dendrogram(linkage_matrix, labels = list(books.title), orientation = 'left')\n",
    "\n",
    "plt.show()"
   ]
  },
  {
   "cell_type": "markdown",
   "metadata": {},
   "source": [
    "We can see the orange cluster is of Bible books"
   ]
  },
  {
   "cell_type": "code",
   "execution_count": 53,
   "metadata": {},
   "outputs": [
    {
     "data": {
      "image/png": "[encoded data removed]",
      "text/plain": [
       "<Figure size 1440x720 with 1 Axes>"
      ]
     },
     "metadata": {
      "needs_background": "light"
     },
     "output_type": "display_data"
    }
   ],
   "source": [
    "plt.figure(figsize = (20,10))\n",
    "\n",
    "dendrogram(linkage_matrix, labels = list(books.author), orientation = 'left')\n",
    "\n",
    "plt.show()"
   ]
  },
  {
   "cell_type": "code",
   "execution_count": 54,
   "metadata": {},
   "outputs": [
    {
     "data": {
      "image/png": "[encoded data removed]",
      "text/plain": [
       "<Figure size 1440x720 with 1 Axes>"
      ]
     },
     "metadata": {
      "needs_background": "light"
     },
     "output_type": "display_data"
    }
   ],
   "source": [
    "plt.figure(figsize = (20,10))\n",
    "\n",
    "dendrogram(linkage_matrix, labels = list(books.date), orientation = 'left')\n",
    "\n",
    "plt.show()"
   ]
  }
 ],
 "metadata": {
  "kernelspec": {
   "display_name": "Python 3 (ipykernel)",
   "language": "python",
   "name": "python3"
  },
  "language_info": {
   "codemirror_mode": {
    "name": "ipython",
    "version": 3
   },
   "file_extension": ".py",
   "mimetype": "text/x-python",
   "name": "python",
   "nbconvert_exporter": "python",
   "pygments_lexer": "ipython3",
   "version": "3.10.5"
  }
 },
 "nbformat": 4,
 "nbformat_minor": 2
}
